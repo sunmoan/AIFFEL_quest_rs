{
 "cells": [
  {
   "cell_type": "markdown",
   "metadata": {
    "colab_type": "text",
    "id": "view-in-github"
   },
   "source": [
    "<a href=\"https://colab.research.google.com/github/sunmoan/AIFFEL_quest_rs/blob/main/Mainquest/Untitled7.ipynb\" target=\"_parent\"><img src=\"https://colab.research.google.com/assets/colab-badge.svg\" alt=\"Open In Colab\"/></a>"
   ]
  },
  {
   "cell_type": "code",
   "execution_count": 20,
   "metadata": {},
   "outputs": [
    {
     "name": "stderr",
     "output_type": "stream",
     "text": [
      "951.84s - pydevd: Sending message related to process being replaced timed-out after 5 seconds\n"
     ]
    },
    {
     "name": "stdout",
     "output_type": "stream",
     "text": [
      "Requirement already satisfied: scikit-learn in /Users/sunmoan/AIFFEL_quest_rs/.venv/lib/python3.9/site-packages (1.6.1)\n",
      "Requirement already satisfied: numpy>=1.19.5 in /Users/sunmoan/AIFFEL_quest_rs/.venv/lib/python3.9/site-packages (from scikit-learn) (2.0.2)\n",
      "Requirement already satisfied: scipy>=1.6.0 in /Users/sunmoan/AIFFEL_quest_rs/.venv/lib/python3.9/site-packages (from scikit-learn) (1.13.1)\n",
      "Requirement already satisfied: joblib>=1.2.0 in /Users/sunmoan/AIFFEL_quest_rs/.venv/lib/python3.9/site-packages (from scikit-learn) (1.5.2)\n",
      "Requirement already satisfied: threadpoolctl>=3.1.0 in /Users/sunmoan/AIFFEL_quest_rs/.venv/lib/python3.9/site-packages (from scikit-learn) (3.6.0)\n",
      "Note: you may need to restart the kernel to use updated packages.\n"
     ]
    },
    {
     "name": "stderr",
     "output_type": "stream",
     "text": [
      "957.55s - pydevd: Sending message related to process being replaced timed-out after 5 seconds\n"
     ]
    },
    {
     "name": "stdout",
     "output_type": "stream",
     "text": [
      "Requirement already satisfied: pandas in /Users/sunmoan/AIFFEL_quest_rs/.venv/lib/python3.9/site-packages (2.3.2)\n",
      "Requirement already satisfied: numpy>=1.22.4 in /Users/sunmoan/AIFFEL_quest_rs/.venv/lib/python3.9/site-packages (from pandas) (2.0.2)\n",
      "Requirement already satisfied: python-dateutil>=2.8.2 in /Users/sunmoan/AIFFEL_quest_rs/.venv/lib/python3.9/site-packages (from pandas) (2.9.0.post0)\n",
      "Requirement already satisfied: pytz>=2020.1 in /Users/sunmoan/AIFFEL_quest_rs/.venv/lib/python3.9/site-packages (from pandas) (2025.2)\n",
      "Requirement already satisfied: tzdata>=2022.7 in /Users/sunmoan/AIFFEL_quest_rs/.venv/lib/python3.9/site-packages (from pandas) (2025.2)\n",
      "Requirement already satisfied: six>=1.5 in /Users/sunmoan/AIFFEL_quest_rs/.venv/lib/python3.9/site-packages (from python-dateutil>=2.8.2->pandas) (1.17.0)\n",
      "Note: you may need to restart the kernel to use updated packages.\n"
     ]
    },
    {
     "name": "stderr",
     "output_type": "stream",
     "text": [
      "963.24s - pydevd: Sending message related to process being replaced timed-out after 5 seconds\n"
     ]
    },
    {
     "name": "stdout",
     "output_type": "stream",
     "text": [
      "Requirement already satisfied: matplotlib in /Users/sunmoan/AIFFEL_quest_rs/.venv/lib/python3.9/site-packages (3.9.4)\n",
      "Requirement already satisfied: contourpy>=1.0.1 in /Users/sunmoan/AIFFEL_quest_rs/.venv/lib/python3.9/site-packages (from matplotlib) (1.3.0)\n",
      "Requirement already satisfied: cycler>=0.10 in /Users/sunmoan/AIFFEL_quest_rs/.venv/lib/python3.9/site-packages (from matplotlib) (0.12.1)\n",
      "Requirement already satisfied: fonttools>=4.22.0 in /Users/sunmoan/AIFFEL_quest_rs/.venv/lib/python3.9/site-packages (from matplotlib) (4.60.0)\n",
      "Requirement already satisfied: kiwisolver>=1.3.1 in /Users/sunmoan/AIFFEL_quest_rs/.venv/lib/python3.9/site-packages (from matplotlib) (1.4.7)\n",
      "Requirement already satisfied: numpy>=1.23 in /Users/sunmoan/AIFFEL_quest_rs/.venv/lib/python3.9/site-packages (from matplotlib) (2.0.2)\n",
      "Requirement already satisfied: packaging>=20.0 in /Users/sunmoan/AIFFEL_quest_rs/.venv/lib/python3.9/site-packages (from matplotlib) (25.0)\n",
      "Requirement already satisfied: pillow>=8 in /Users/sunmoan/AIFFEL_quest_rs/.venv/lib/python3.9/site-packages (from matplotlib) (11.3.0)\n",
      "Requirement already satisfied: pyparsing>=2.3.1 in /Users/sunmoan/AIFFEL_quest_rs/.venv/lib/python3.9/site-packages (from matplotlib) (3.2.5)\n",
      "Requirement already satisfied: python-dateutil>=2.7 in /Users/sunmoan/AIFFEL_quest_rs/.venv/lib/python3.9/site-packages (from matplotlib) (2.9.0.post0)\n",
      "Requirement already satisfied: importlib-resources>=3.2.0 in /Users/sunmoan/AIFFEL_quest_rs/.venv/lib/python3.9/site-packages (from matplotlib) (6.5.2)\n",
      "Requirement already satisfied: zipp>=3.1.0 in /Users/sunmoan/AIFFEL_quest_rs/.venv/lib/python3.9/site-packages (from importlib-resources>=3.2.0->matplotlib) (3.23.0)\n",
      "Requirement already satisfied: six>=1.5 in /Users/sunmoan/AIFFEL_quest_rs/.venv/lib/python3.9/site-packages (from python-dateutil>=2.7->matplotlib) (1.17.0)\n",
      "Note: you may need to restart the kernel to use updated packages.\n"
     ]
    },
    {
     "name": "stderr",
     "output_type": "stream",
     "text": [
      "968.88s - pydevd: Sending message related to process being replaced timed-out after 5 seconds\n"
     ]
    },
    {
     "name": "stdout",
     "output_type": "stream",
     "text": [
      "Requirement already satisfied: seaborn in /Users/sunmoan/AIFFEL_quest_rs/.venv/lib/python3.9/site-packages (0.13.2)\n",
      "Requirement already satisfied: numpy!=1.24.0,>=1.20 in /Users/sunmoan/AIFFEL_quest_rs/.venv/lib/python3.9/site-packages (from seaborn) (2.0.2)\n",
      "Requirement already satisfied: pandas>=1.2 in /Users/sunmoan/AIFFEL_quest_rs/.venv/lib/python3.9/site-packages (from seaborn) (2.3.2)\n",
      "Requirement already satisfied: matplotlib!=3.6.1,>=3.4 in /Users/sunmoan/AIFFEL_quest_rs/.venv/lib/python3.9/site-packages (from seaborn) (3.9.4)\n",
      "Requirement already satisfied: contourpy>=1.0.1 in /Users/sunmoan/AIFFEL_quest_rs/.venv/lib/python3.9/site-packages (from matplotlib!=3.6.1,>=3.4->seaborn) (1.3.0)\n",
      "Requirement already satisfied: cycler>=0.10 in /Users/sunmoan/AIFFEL_quest_rs/.venv/lib/python3.9/site-packages (from matplotlib!=3.6.1,>=3.4->seaborn) (0.12.1)\n",
      "Requirement already satisfied: fonttools>=4.22.0 in /Users/sunmoan/AIFFEL_quest_rs/.venv/lib/python3.9/site-packages (from matplotlib!=3.6.1,>=3.4->seaborn) (4.60.0)\n",
      "Requirement already satisfied: kiwisolver>=1.3.1 in /Users/sunmoan/AIFFEL_quest_rs/.venv/lib/python3.9/site-packages (from matplotlib!=3.6.1,>=3.4->seaborn) (1.4.7)\n",
      "Requirement already satisfied: packaging>=20.0 in /Users/sunmoan/AIFFEL_quest_rs/.venv/lib/python3.9/site-packages (from matplotlib!=3.6.1,>=3.4->seaborn) (25.0)\n",
      "Requirement already satisfied: pillow>=8 in /Users/sunmoan/AIFFEL_quest_rs/.venv/lib/python3.9/site-packages (from matplotlib!=3.6.1,>=3.4->seaborn) (11.3.0)\n",
      "Requirement already satisfied: pyparsing>=2.3.1 in /Users/sunmoan/AIFFEL_quest_rs/.venv/lib/python3.9/site-packages (from matplotlib!=3.6.1,>=3.4->seaborn) (3.2.5)\n",
      "Requirement already satisfied: python-dateutil>=2.7 in /Users/sunmoan/AIFFEL_quest_rs/.venv/lib/python3.9/site-packages (from matplotlib!=3.6.1,>=3.4->seaborn) (2.9.0.post0)\n",
      "Requirement already satisfied: importlib-resources>=3.2.0 in /Users/sunmoan/AIFFEL_quest_rs/.venv/lib/python3.9/site-packages (from matplotlib!=3.6.1,>=3.4->seaborn) (6.5.2)\n",
      "Requirement already satisfied: zipp>=3.1.0 in /Users/sunmoan/AIFFEL_quest_rs/.venv/lib/python3.9/site-packages (from importlib-resources>=3.2.0->matplotlib!=3.6.1,>=3.4->seaborn) (3.23.0)\n",
      "Requirement already satisfied: pytz>=2020.1 in /Users/sunmoan/AIFFEL_quest_rs/.venv/lib/python3.9/site-packages (from pandas>=1.2->seaborn) (2025.2)\n",
      "Requirement already satisfied: tzdata>=2022.7 in /Users/sunmoan/AIFFEL_quest_rs/.venv/lib/python3.9/site-packages (from pandas>=1.2->seaborn) (2025.2)\n",
      "Requirement already satisfied: six>=1.5 in /Users/sunmoan/AIFFEL_quest_rs/.venv/lib/python3.9/site-packages (from python-dateutil>=2.7->matplotlib!=3.6.1,>=3.4->seaborn) (1.17.0)\n",
      "Note: you may need to restart the kernel to use updated packages.\n"
     ]
    },
    {
     "name": "stderr",
     "output_type": "stream",
     "text": [
      "974.67s - pydevd: Sending message related to process being replaced timed-out after 5 seconds\n"
     ]
    },
    {
     "name": "stdout",
     "output_type": "stream",
     "text": [
      "Requirement already satisfied: numpy in /Users/sunmoan/AIFFEL_quest_rs/.venv/lib/python3.9/site-packages (2.0.2)\n",
      "Note: you may need to restart the kernel to use updated packages.\n"
     ]
    }
   ],
   "source": [
    "%pip install scikit-learn\n",
    "%pip install pandas\n",
    "%pip install matplotlib\n",
    "%pip install seaborn\n",
    "%pip install numpy"
   ]
  },
  {
   "cell_type": "code",
   "execution_count": 21,
   "metadata": {
    "id": "W_65Qs6ci8VZ"
   },
   "outputs": [],
   "source": [
    "from sklearn.datasets import load_diabetes\n",
    "data = load_diabetes()\n",
    "df_X = data.data\n",
    "df_y = data.target\n",
    "\n",
    "import numpy as np"
   ]
  },
  {
   "cell_type": "code",
   "execution_count": 22,
   "metadata": {
    "colab": {
     "base_uri": "https://localhost:8080/"
    },
    "id": "UwZnNcEbIx26",
    "outputId": "d6d9212d-7367-4265-eedd-d5a782f81064"
   },
   "outputs": [
    {
     "name": "stdout",
     "output_type": "stream",
     "text": [
      "<class 'numpy.ndarray'> float64\n"
     ]
    }
   ],
   "source": [
    "X = np.array(df_X)\n",
    "print(type(X), X.dtype)"
   ]
  },
  {
   "cell_type": "code",
   "execution_count": 23,
   "metadata": {
    "colab": {
     "base_uri": "https://localhost:8080/"
    },
    "id": "6yZ6I7SCIv-f",
    "outputId": "434bf00f-dc99-4410-ff66-cbc408226fb7"
   },
   "outputs": [
    {
     "name": "stdout",
     "output_type": "stream",
     "text": [
      "<class 'numpy.ndarray'> float64\n"
     ]
    }
   ],
   "source": [
    "y = np.array(df_y)\n",
    "\n",
    "print(type(y), y.dtype)"
   ]
  },
  {
   "cell_type": "code",
   "execution_count": 24,
   "metadata": {
    "id": "icxC3gATKjbA"
   },
   "outputs": [],
   "source": [
    "from sklearn.model_selection import train_test_split\n",
    "X_train, X_test, Y_train, Y_test = train_test_split(X, y, test_size=0.2, random_state=42)"
   ]
  },
  {
   "cell_type": "code",
   "execution_count": 25,
   "metadata": {
    "colab": {
     "base_uri": "https://localhost:8080/"
    },
    "id": "nsItREgqLIpH",
    "outputId": "af4d6cc9-4342-4f86-a0f7-4a3b28368dc9"
   },
   "outputs": [
    {
     "name": "stdout",
     "output_type": "stream",
     "text": [
      "10\n"
     ]
    }
   ],
   "source": [
    "W = np.random.rand(X_train.shape[1])\n",
    "n = np.random.rand()\n",
    "\n",
    "print(len(W))"
   ]
  },
  {
   "cell_type": "code",
   "execution_count": 26,
   "metadata": {
    "id": "mlk7otedMB1t"
   },
   "outputs": [],
   "source": [
    "def model(X,W,b):\n",
    "  predictions = 0\n",
    "  for i in range(len(W)):\n",
    "    predictions += X[:, i]*W[i]\n",
    "  predictions += b\n",
    "  return predictions"
   ]
  },
  {
   "cell_type": "code",
   "execution_count": 27,
   "metadata": {
    "id": "YwFF--VdNGXt"
   },
   "outputs": [],
   "source": [
    "def MSE(a, b):\n",
    "    mse = ((a - b) ** 2).mean()  # 두 값의 차이의 제곱의 평균\n",
    "    return mse"
   ]
  },
  {
   "cell_type": "code",
   "execution_count": 28,
   "metadata": {
    "id": "yr_7E9P7NQDN"
   },
   "outputs": [],
   "source": [
    "def loss(X, W, b, y):\n",
    "    predictions = model(X, W, b)\n",
    "    L = MSE(predictions, y)\n",
    "    return L"
   ]
  },
  {
   "cell_type": "code",
   "execution_count": 29,
   "metadata": {
    "id": "vXTZM6huNW61"
   },
   "outputs": [],
   "source": [
    "def gradient(X, W, b, y):\n",
    "    N = len(y)\n",
    "\n",
    "    y_pred = model(X, W, b)\n",
    "\n",
    "    dW = 1/N * 2 * X.T.dot(y_pred - y)\n",
    "\n",
    "    db = 2 * (y_pred - y).mean()\n",
    "    return dW, db"
   ]
  },
  {
   "cell_type": "code",
   "execution_count": 30,
   "metadata": {
    "id": "ACTEiieMN1E_"
   },
   "outputs": [],
   "source": [
    "LEARNING_RATE = 0.01"
   ]
  },
  {
   "cell_type": "code",
   "execution_count": 37,
   "metadata": {
    "colab": {
     "base_uri": "https://localhost:8080/"
    },
    "id": "vQLzzlslN3Ic",
    "outputId": "d0ce9983-f04b-4138-844e-35fce9fd6c0f"
   },
   "outputs": [
    {
     "name": "stdout",
     "output_type": "stream",
     "text": [
      "Iteration 100 : Loss 4232.3942\n",
      "Iteration 200 : Loss 3815.5902\n",
      "Iteration 300 : Loss 3794.6305\n",
      "Iteration 400 : Loss 3780.9429\n",
      "Iteration 500 : Loss 3767.6841\n",
      "Iteration 600 : Loss 3754.7250\n",
      "Iteration 700 : Loss 3742.0546\n",
      "Iteration 800 : Loss 3729.6644\n",
      "Iteration 900 : Loss 3717.5461\n",
      "Iteration 1000 : Loss 3705.6918\n",
      "Iteration 1100 : Loss 3694.0939\n",
      "Iteration 1200 : Loss 3682.7449\n",
      "Iteration 1300 : Loss 3671.6375\n",
      "Iteration 1400 : Loss 3660.7650\n",
      "Iteration 1500 : Loss 3650.1204\n",
      "Iteration 1600 : Loss 3639.6974\n",
      "Iteration 1700 : Loss 3629.4897\n",
      "Iteration 1800 : Loss 3619.4911\n",
      "Iteration 1900 : Loss 3609.6959\n",
      "Iteration 2000 : Loss 3600.0982\n",
      "Iteration 2100 : Loss 3590.6927\n",
      "Iteration 2200 : Loss 3581.4739\n",
      "Iteration 2300 : Loss 3572.4368\n",
      "Iteration 2400 : Loss 3563.5763\n",
      "Iteration 2500 : Loss 3554.8877\n",
      "Iteration 2600 : Loss 3546.3662\n",
      "Iteration 2700 : Loss 3538.0074\n",
      "Iteration 2800 : Loss 3529.8069\n",
      "Iteration 2900 : Loss 3521.7604\n",
      "Iteration 3000 : Loss 3513.8639\n",
      "Iteration 3100 : Loss 3506.1134\n",
      "Iteration 3200 : Loss 3498.5050\n",
      "Iteration 3300 : Loss 3491.0351\n",
      "Iteration 3400 : Loss 3483.7000\n",
      "Iteration 3500 : Loss 3476.4963\n",
      "Iteration 3600 : Loss 3469.4206\n",
      "Iteration 3700 : Loss 3462.4696\n",
      "Iteration 3800 : Loss 3455.6402\n",
      "Iteration 3900 : Loss 3448.9292\n",
      "Iteration 4000 : Loss 3442.3338\n",
      "Iteration 4100 : Loss 3435.8510\n",
      "Iteration 4200 : Loss 3429.4781\n",
      "Iteration 4300 : Loss 3423.2123\n",
      "Iteration 4400 : Loss 3417.0511\n",
      "Iteration 4500 : Loss 3410.9918\n",
      "Iteration 4600 : Loss 3405.0321\n",
      "Iteration 4700 : Loss 3399.1696\n",
      "Iteration 4800 : Loss 3393.4018\n",
      "Iteration 4900 : Loss 3387.7267\n",
      "Iteration 5000 : Loss 3382.1420\n",
      "Iteration 5100 : Loss 3376.6456\n",
      "Iteration 5200 : Loss 3371.2355\n",
      "Iteration 5300 : Loss 3365.9096\n",
      "Iteration 5400 : Loss 3360.6661\n",
      "Iteration 5500 : Loss 3355.5031\n",
      "Iteration 5600 : Loss 3350.4187\n",
      "Iteration 5700 : Loss 3345.4113\n",
      "Iteration 5800 : Loss 3340.4791\n",
      "Iteration 5900 : Loss 3335.6204\n",
      "Iteration 6000 : Loss 3330.8337\n",
      "Iteration 6100 : Loss 3326.1174\n",
      "Iteration 6200 : Loss 3321.4699\n",
      "Iteration 6300 : Loss 3316.8898\n",
      "Iteration 6400 : Loss 3312.3756\n",
      "Iteration 6500 : Loss 3307.9260\n",
      "Iteration 6600 : Loss 3303.5397\n",
      "Iteration 6700 : Loss 3299.2152\n",
      "Iteration 6800 : Loss 3294.9514\n",
      "Iteration 6900 : Loss 3290.7469\n",
      "Iteration 7000 : Loss 3286.6007\n",
      "Iteration 7100 : Loss 3282.5114\n",
      "Iteration 7200 : Loss 3278.4780\n",
      "Iteration 7300 : Loss 3274.4994\n",
      "Iteration 7400 : Loss 3270.5744\n",
      "Iteration 7500 : Loss 3266.7021\n",
      "Iteration 7600 : Loss 3262.8814\n",
      "Iteration 7700 : Loss 3259.1114\n",
      "Iteration 7800 : Loss 3255.3909\n",
      "Iteration 7900 : Loss 3251.7192\n",
      "Iteration 8000 : Loss 3248.0953\n",
      "Iteration 8100 : Loss 3244.5183\n",
      "Iteration 8200 : Loss 3240.9874\n",
      "Iteration 8300 : Loss 3237.5016\n",
      "Iteration 8400 : Loss 3234.0602\n",
      "Iteration 8500 : Loss 3230.6624\n",
      "Iteration 8600 : Loss 3227.3073\n",
      "Iteration 8700 : Loss 3223.9943\n",
      "Iteration 8800 : Loss 3220.7226\n",
      "Iteration 8900 : Loss 3217.4914\n",
      "Iteration 9000 : Loss 3214.3001\n",
      "Iteration 9100 : Loss 3211.1480\n",
      "Iteration 9200 : Loss 3208.0343\n",
      "Iteration 9300 : Loss 3204.9585\n",
      "Iteration 9400 : Loss 3201.9199\n",
      "Iteration 9500 : Loss 3198.9179\n",
      "Iteration 9600 : Loss 3195.9518\n",
      "Iteration 9700 : Loss 3193.0211\n",
      "Iteration 9800 : Loss 3190.1253\n",
      "Iteration 9900 : Loss 3187.2636\n",
      "Iteration 10000 : Loss 3184.4356\n",
      "409 ms ± 0 ns per loop (mean ± std. dev. of 1 run, 1 loop each)\n"
     ]
    }
   ],
   "source": [
    "%%timeit -n 1 -r 1\n",
    "global W, b\n",
    "\n",
    "b = 0 # Initialize b\n",
    "\n",
    "losses = []\n",
    "\n",
    "for i in range(1, 10001):\n",
    "    dW, db = gradient(X_train, W, b, Y_train)\n",
    "    W -= LEARNING_RATE * dW\n",
    "    b -= LEARNING_RATE * db\n",
    "    L = loss(X_train, W, b, Y_train)\n",
    "    losses.append(L)\n",
    "    if i % 100 == 0:\n",
    "        print('Iteration %d : Loss %0.4f' % (i, L))"
   ]
  },
  {
   "cell_type": "code",
   "execution_count": 38,
   "metadata": {
    "colab": {
     "base_uri": "https://localhost:8080/"
    },
    "id": "LKzWKzcEOngy",
    "outputId": "c5db8031-5aa4-436e-b181-b92c4bce34ca"
   },
   "outputs": [
    {
     "data": {
      "text/plain": [
       "np.float64(2947.733787544822)"
      ]
     },
     "execution_count": 38,
     "metadata": {},
     "output_type": "execute_result"
    }
   ],
   "source": [
    "prediction = model(X_test, W, b)\n",
    "mse = loss(X_test, W, b, Y_test)\n",
    "mse\n"
   ]
  },
  {
   "cell_type": "code",
   "execution_count": 39,
   "metadata": {
    "colab": {
     "base_uri": "https://localhost:8080/",
     "height": 430
    },
    "id": "cVQDEVeXOsre",
    "outputId": "82004880-3736-4091-ba93-b42eae4ce2ed"
   },
   "outputs": [
    {
     "data": {
      "image/png": "[encoded data removed]",
      "text/plain": [
       "<Figure size 640x480 with 1 Axes>"
      ]
     },
     "metadata": {},
     "output_type": "display_data"
    }
   ],
   "source": [
    "import matplotlib.pyplot as plt\n",
    "\n",
    "plt.scatter(X_test[:, 0], Y_test)\n",
    "plt.scatter(X_test[:, 0], prediction)\n",
    "plt.show()"
   ]
  }
 ],
 "metadata": {
  "colab": {
   "authorship_tag": "ABX9TyMLbTfOg2ThUTkqTY1BZSbG",
   "include_colab_link": true,
   "provenance": [],
   "toc_visible": true
  },
  "kernelspec": {
   "display_name": "Python 3 (ipykernel)",
   "language": "python",
   "name": "python3"
  },
  "language_info": {
   "codemirror_mode": {
    "name": "ipython",
    "version": 3
   },
   "file_extension": ".py",
   "mimetype": "text/x-python",
   "name": "python",
   "nbconvert_exporter": "python",
   "pygments_lexer": "ipython3",
   "version": "3.12.11"
  }
 },
 "nbformat": 4,
 "nbformat_minor": 4
}
